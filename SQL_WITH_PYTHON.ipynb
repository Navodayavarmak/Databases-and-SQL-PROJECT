{
  "nbformat": 4,
  "nbformat_minor": 0,
  "metadata": {
    "colab": {
      "name": "SQL WITH PYTHON.ipynb",
      "provenance": [],
      "collapsed_sections": []
    },
    "kernelspec": {
      "name": "python3",
      "display_name": "Python 3"
    },
    "language_info": {
      "name": "python"
    }
  },
  "cells": [
    {
      "cell_type": "markdown",
      "source": [
        "\n",
        "\n",
        "#**Databases and SQL for Data Science with Python** "
      ],
      "metadata": {
        "id": "1cbFBc9oYmdm"
      }
    },
    {
      "cell_type": "code",
      "execution_count": null,
      "metadata": {
        "id": "dNo9E8-SSpr3",
        "colab": {
          "base_uri": "https://localhost:8080/"
        },
        "outputId": "3a9b75d9-9c70-4585-e954-a5f9f9623ea0"
      },
      "outputs": [
        {
          "output_type": "stream",
          "name": "stdout",
          "text": [
            "Collecting ibm-db\n",
            "  Downloading ibm_db-3.1.1.tar.gz (1.1 MB)\n",
            "\u001b[?25l\r\u001b[K     |▎                               | 10 kB 20.1 MB/s eta 0:00:01\r\u001b[K     |▋                               | 20 kB 23.5 MB/s eta 0:00:01\r\u001b[K     |█                               | 30 kB 29.4 MB/s eta 0:00:01\r\u001b[K     |█▏                              | 40 kB 33.4 MB/s eta 0:00:01\r\u001b[K     |█▌                              | 51 kB 34.0 MB/s eta 0:00:01\r\u001b[K     |█▉                              | 61 kB 36.9 MB/s eta 0:00:01\r\u001b[K     |██                              | 71 kB 27.8 MB/s eta 0:00:01\r\u001b[K     |██▍                             | 81 kB 21.0 MB/s eta 0:00:01\r\u001b[K     |██▊                             | 92 kB 22.5 MB/s eta 0:00:01\r\u001b[K     |███                             | 102 kB 24.2 MB/s eta 0:00:01\r\u001b[K     |███▎                            | 112 kB 24.2 MB/s eta 0:00:01\r\u001b[K     |███▋                            | 122 kB 24.2 MB/s eta 0:00:01\r\u001b[K     |███▉                            | 133 kB 24.2 MB/s eta 0:00:01\r\u001b[K     |████▏                           | 143 kB 24.2 MB/s eta 0:00:01\r\u001b[K     |████▌                           | 153 kB 24.2 MB/s eta 0:00:01\r\u001b[K     |████▊                           | 163 kB 24.2 MB/s eta 0:00:01\r\u001b[K     |█████                           | 174 kB 24.2 MB/s eta 0:00:01\r\u001b[K     |█████▍                          | 184 kB 24.2 MB/s eta 0:00:01\r\u001b[K     |█████▋                          | 194 kB 24.2 MB/s eta 0:00:01\r\u001b[K     |██████                          | 204 kB 24.2 MB/s eta 0:00:01\r\u001b[K     |██████▎                         | 215 kB 24.2 MB/s eta 0:00:01\r\u001b[K     |██████▌                         | 225 kB 24.2 MB/s eta 0:00:01\r\u001b[K     |██████▉                         | 235 kB 24.2 MB/s eta 0:00:01\r\u001b[K     |███████▏                        | 245 kB 24.2 MB/s eta 0:00:01\r\u001b[K     |███████▌                        | 256 kB 24.2 MB/s eta 0:00:01\r\u001b[K     |███████▊                        | 266 kB 24.2 MB/s eta 0:00:01\r\u001b[K     |████████                        | 276 kB 24.2 MB/s eta 0:00:01\r\u001b[K     |████████▍                       | 286 kB 24.2 MB/s eta 0:00:01\r\u001b[K     |████████▋                       | 296 kB 24.2 MB/s eta 0:00:01\r\u001b[K     |█████████                       | 307 kB 24.2 MB/s eta 0:00:01\r\u001b[K     |█████████▎                      | 317 kB 24.2 MB/s eta 0:00:01\r\u001b[K     |█████████▌                      | 327 kB 24.2 MB/s eta 0:00:01\r\u001b[K     |█████████▉                      | 337 kB 24.2 MB/s eta 0:00:01\r\u001b[K     |██████████▏                     | 348 kB 24.2 MB/s eta 0:00:01\r\u001b[K     |██████████▍                     | 358 kB 24.2 MB/s eta 0:00:01\r\u001b[K     |██████████▊                     | 368 kB 24.2 MB/s eta 0:00:01\r\u001b[K     |███████████                     | 378 kB 24.2 MB/s eta 0:00:01\r\u001b[K     |███████████▎                    | 389 kB 24.2 MB/s eta 0:00:01\r\u001b[K     |███████████▋                    | 399 kB 24.2 MB/s eta 0:00:01\r\u001b[K     |████████████                    | 409 kB 24.2 MB/s eta 0:00:01\r\u001b[K     |████████████▏                   | 419 kB 24.2 MB/s eta 0:00:01\r\u001b[K     |████████████▌                   | 430 kB 24.2 MB/s eta 0:00:01\r\u001b[K     |████████████▉                   | 440 kB 24.2 MB/s eta 0:00:01\r\u001b[K     |█████████████                   | 450 kB 24.2 MB/s eta 0:00:01\r\u001b[K     |█████████████▍                  | 460 kB 24.2 MB/s eta 0:00:01\r\u001b[K     |█████████████▊                  | 471 kB 24.2 MB/s eta 0:00:01\r\u001b[K     |██████████████                  | 481 kB 24.2 MB/s eta 0:00:01\r\u001b[K     |██████████████▎                 | 491 kB 24.2 MB/s eta 0:00:01\r\u001b[K     |██████████████▋                 | 501 kB 24.2 MB/s eta 0:00:01\r\u001b[K     |███████████████                 | 512 kB 24.2 MB/s eta 0:00:01\r\u001b[K     |███████████████▏                | 522 kB 24.2 MB/s eta 0:00:01\r\u001b[K     |███████████████▌                | 532 kB 24.2 MB/s eta 0:00:01\r\u001b[K     |███████████████▉                | 542 kB 24.2 MB/s eta 0:00:01\r\u001b[K     |████████████████                | 552 kB 24.2 MB/s eta 0:00:01\r\u001b[K     |████████████████▍               | 563 kB 24.2 MB/s eta 0:00:01\r\u001b[K     |████████████████▊               | 573 kB 24.2 MB/s eta 0:00:01\r\u001b[K     |█████████████████               | 583 kB 24.2 MB/s eta 0:00:01\r\u001b[K     |█████████████████▎              | 593 kB 24.2 MB/s eta 0:00:01\r\u001b[K     |█████████████████▋              | 604 kB 24.2 MB/s eta 0:00:01\r\u001b[K     |█████████████████▉              | 614 kB 24.2 MB/s eta 0:00:01\r\u001b[K     |██████████████████▏             | 624 kB 24.2 MB/s eta 0:00:01\r\u001b[K     |██████████████████▌             | 634 kB 24.2 MB/s eta 0:00:01\r\u001b[K     |██████████████████▊             | 645 kB 24.2 MB/s eta 0:00:01\r\u001b[K     |███████████████████             | 655 kB 24.2 MB/s eta 0:00:01\r\u001b[K     |███████████████████▍            | 665 kB 24.2 MB/s eta 0:00:01\r\u001b[K     |███████████████████▋            | 675 kB 24.2 MB/s eta 0:00:01\r\u001b[K     |████████████████████            | 686 kB 24.2 MB/s eta 0:00:01\r\u001b[K     |████████████████████▎           | 696 kB 24.2 MB/s eta 0:00:01\r\u001b[K     |████████████████████▋           | 706 kB 24.2 MB/s eta 0:00:01\r\u001b[K     |████████████████████▉           | 716 kB 24.2 MB/s eta 0:00:01\r\u001b[K     |█████████████████████▏          | 727 kB 24.2 MB/s eta 0:00:01\r\u001b[K     |█████████████████████▌          | 737 kB 24.2 MB/s eta 0:00:01\r\u001b[K     |█████████████████████▊          | 747 kB 24.2 MB/s eta 0:00:01\r\u001b[K     |██████████████████████          | 757 kB 24.2 MB/s eta 0:00:01\r\u001b[K     |██████████████████████▍         | 768 kB 24.2 MB/s eta 0:00:01\r\u001b[K     |██████████████████████▋         | 778 kB 24.2 MB/s eta 0:00:01\r\u001b[K     |███████████████████████         | 788 kB 24.2 MB/s eta 0:00:01\r\u001b[K     |███████████████████████▎        | 798 kB 24.2 MB/s eta 0:00:01\r\u001b[K     |███████████████████████▌        | 808 kB 24.2 MB/s eta 0:00:01\r\u001b[K     |███████████████████████▉        | 819 kB 24.2 MB/s eta 0:00:01\r\u001b[K     |████████████████████████▏       | 829 kB 24.2 MB/s eta 0:00:01\r\u001b[K     |████████████████████████▍       | 839 kB 24.2 MB/s eta 0:00:01\r\u001b[K     |████████████████████████▊       | 849 kB 24.2 MB/s eta 0:00:01\r\u001b[K     |█████████████████████████       | 860 kB 24.2 MB/s eta 0:00:01\r\u001b[K     |█████████████████████████▎      | 870 kB 24.2 MB/s eta 0:00:01\r\u001b[K     |█████████████████████████▋      | 880 kB 24.2 MB/s eta 0:00:01\r\u001b[K     |██████████████████████████      | 890 kB 24.2 MB/s eta 0:00:01\r\u001b[K     |██████████████████████████▏     | 901 kB 24.2 MB/s eta 0:00:01\r\u001b[K     |██████████████████████████▌     | 911 kB 24.2 MB/s eta 0:00:01\r\u001b[K     |██████████████████████████▉     | 921 kB 24.2 MB/s eta 0:00:01\r\u001b[K     |███████████████████████████▏    | 931 kB 24.2 MB/s eta 0:00:01\r\u001b[K     |███████████████████████████▍    | 942 kB 24.2 MB/s eta 0:00:01\r\u001b[K     |███████████████████████████▊    | 952 kB 24.2 MB/s eta 0:00:01\r\u001b[K     |████████████████████████████    | 962 kB 24.2 MB/s eta 0:00:01\r\u001b[K     |████████████████████████████▎   | 972 kB 24.2 MB/s eta 0:00:01\r\u001b[K     |████████████████████████████▋   | 983 kB 24.2 MB/s eta 0:00:01\r\u001b[K     |█████████████████████████████   | 993 kB 24.2 MB/s eta 0:00:01\r\u001b[K     |█████████████████████████████▏  | 1.0 MB 24.2 MB/s eta 0:00:01\r\u001b[K     |█████████████████████████████▌  | 1.0 MB 24.2 MB/s eta 0:00:01\r\u001b[K     |█████████████████████████████▉  | 1.0 MB 24.2 MB/s eta 0:00:01\r\u001b[K     |██████████████████████████████  | 1.0 MB 24.2 MB/s eta 0:00:01\r\u001b[K     |██████████████████████████████▍ | 1.0 MB 24.2 MB/s eta 0:00:01\r\u001b[K     |██████████████████████████████▊ | 1.1 MB 24.2 MB/s eta 0:00:01\r\u001b[K     |███████████████████████████████ | 1.1 MB 24.2 MB/s eta 0:00:01\r\u001b[K     |███████████████████████████████▎| 1.1 MB 24.2 MB/s eta 0:00:01\r\u001b[K     |███████████████████████████████▋| 1.1 MB 24.2 MB/s eta 0:00:01\r\u001b[K     |███████████████████████████████▉| 1.1 MB 24.2 MB/s eta 0:00:01\r\u001b[K     |████████████████████████████████| 1.1 MB 24.2 MB/s \n",
            "\u001b[?25h  Installing build dependencies ... \u001b[?25l\u001b[?25hdone\n",
            "  Getting requirements to build wheel ... \u001b[?25l\u001b[?25hdone\n",
            "  Installing backend dependencies ... \u001b[?25l\u001b[?25hdone\n",
            "    Preparing wheel metadata ... \u001b[?25l\u001b[?25hdone\n",
            "Building wheels for collected packages: ibm-db\n",
            "  Building wheel for ibm-db (PEP 517) ... \u001b[?25l\u001b[?25hdone\n",
            "  Created wheel for ibm-db: filename=ibm_db-3.1.1-cp37-cp37m-linux_x86_64.whl size=41420480 sha256=6f43a0cd52e8e1ea5ab668d58b09f95e0959d53b0bfde8ae2e47fddb691b59d8\n",
            "  Stored in directory: /root/.cache/pip/wheels/03/a2/bf/27e4a4c9ca57eeea66526c74386df7dfd118d689ab794f1ab6\n",
            "Successfully built ibm-db\n",
            "Installing collected packages: ibm-db\n",
            "Successfully installed ibm-db-3.1.1\n"
          ]
        }
      ],
      "source": [
        "!pip install ibm-db"
      ]
    },
    {
      "cell_type": "code",
      "source": [
        "from ibm_db import *"
      ],
      "metadata": {
        "id": "vh4-bmuvSotf"
      },
      "execution_count": null,
      "outputs": []
    },
    {
      "cell_type": "code",
      "source": [
        "import pandas\n",
        "import ibm_db_dbi"
      ],
      "metadata": {
        "id": "LFzCq-F8StYB"
      },
      "execution_count": null,
      "outputs": []
    },
    {
      "cell_type": "code",
      "source": [
        "import ibm_db"
      ],
      "metadata": {
        "id": "o5WDY8bDSxmZ"
      },
      "execution_count": 4,
      "outputs": []
    },
    {
      "cell_type": "code",
      "source": [
        "dsn_hostname = \"54a2f15b-5c0f-46df-8954-7e38e612c2bd.c1ogj3sd0tgtu0lqde00.databases.appdomain.cloud\" \n",
        "dsn_uid = \"nfs27701\"        \n",
        "dsn_pwd = \"5AVNaS6XUHILiXFe\"      \n",
        "\n",
        "dsn_driver = \"{IBM DB2 ODBC DRIVER}\"\n",
        "dsn_database = \"bludb\"           \n",
        "dsn_port = \"32733\"                \n",
        "dsn_protocol = \"TCPIP\"           \n",
        "dsn_security = \"SSL\""
      ],
      "metadata": {
        "id": "vR0YRQcxUHT6"
      },
      "execution_count": 5,
      "outputs": []
    },
    {
      "cell_type": "code",
      "source": [
        "dsn = (\n",
        "    \"DRIVER={0};\"\n",
        "    \"DATABASE={1};\"\n",
        "    \"HOSTNAME={2};\"\n",
        "    \"PORT={3};\"\n",
        "    \"PROTOCOL={4};\"\n",
        "    \"UID={5};\"\n",
        "    \"PWD={6};\"\n",
        "    \"SECURITY={7};\").format(dsn_driver, dsn_database, dsn_hostname, dsn_port, dsn_protocol, dsn_uid, dsn_pwd,dsn_security)\n",
        "\n",
        "print(dsn)"
      ],
      "metadata": {
        "colab": {
          "base_uri": "https://localhost:8080/"
        },
        "id": "5oDlO-GBUKaI",
        "outputId": "f808c51e-e8d4-4c1c-c0db-4c4541d5632e"
      },
      "execution_count": 6,
      "outputs": [
        {
          "output_type": "stream",
          "name": "stdout",
          "text": [
            "DRIVER={IBM DB2 ODBC DRIVER};DATABASE=bludb;HOSTNAME=54a2f15b-5c0f-46df-8954-7e38e612c2bd.c1ogj3sd0tgtu0lqde00.databases.appdomain.cloud;PORT=32733;PROTOCOL=TCPIP;UID=nfs27701;PWD=5AVNaS6XUHILiXFe;SECURITY=SSL;\n"
          ]
        }
      ]
    },
    {
      "cell_type": "code",
      "source": [
        "try:\n",
        "    conn = ibm_db.connect(dsn, \"\", \"\")\n",
        "    print (\"Connected to database: \", dsn_database, \"as user: \", dsn_uid, \"on host: \", dsn_hostname)\n",
        "\n",
        "except:\n",
        "    print (\"Unable to connect: \", ibm_db.conn_errormsg() )"
      ],
      "metadata": {
        "colab": {
          "base_uri": "https://localhost:8080/"
        },
        "id": "fX_eEpHyUSum",
        "outputId": "6a357a75-a478-425f-e94f-7e979d80b3bb"
      },
      "execution_count": 7,
      "outputs": [
        {
          "output_type": "stream",
          "name": "stdout",
          "text": [
            "Connected to database:  bludb as user:  nfs27701 on host:  54a2f15b-5c0f-46df-8954-7e38e612c2bd.c1ogj3sd0tgtu0lqde00.databases.appdomain.cloud\n"
          ]
        }
      ]
    },
    {
      "cell_type": "code",
      "source": [
        "server = ibm_db.server_info(conn)\n",
        "\n",
        "print (\"DBMS_NAME: \", server.DBMS_NAME)\n",
        "print (\"DBMS_VER:  \", server.DBMS_VER)\n",
        "print (\"DB_NAME:   \", server.DB_NAME)"
      ],
      "metadata": {
        "colab": {
          "base_uri": "https://localhost:8080/"
        },
        "id": "KiqdyCt8UYe_",
        "outputId": "51b259c5-7729-4c94-a20c-a983864ee190"
      },
      "execution_count": 8,
      "outputs": [
        {
          "output_type": "stream",
          "name": "stdout",
          "text": [
            "DBMS_NAME:  DB2/LINUXX8664\n",
            "DBMS_VER:   11.05.0700\n",
            "DB_NAME:    BLUDB\n"
          ]
        }
      ]
    },
    {
      "cell_type": "code",
      "source": [
        "client = ibm_db.client_info(conn)\n",
        "\n",
        "print (\"DRIVER_NAME:          \", client.DRIVER_NAME) \n",
        "print (\"DRIVER_VER:           \", client.DRIVER_VER)\n",
        "print (\"DATA_SOURCE_NAME:     \", client.DATA_SOURCE_NAME)\n",
        "print (\"DRIVER_ODBC_VER:      \", client.DRIVER_ODBC_VER)\n",
        "print (\"ODBC_VER:             \", client.ODBC_VER)\n",
        "print (\"ODBC_SQL_CONFORMANCE: \", client.ODBC_SQL_CONFORMANCE)\n",
        "print (\"APPL_CODEPAGE:        \", client.APPL_CODEPAGE)\n",
        "print (\"CONN_CODEPAGE:        \", client.CONN_CODEPAGE)"
      ],
      "metadata": {
        "colab": {
          "base_uri": "https://localhost:8080/"
        },
        "id": "vjTjaQpCUcM4",
        "outputId": "58cf1a9b-98b8-490c-b80c-a041b93bf2cb"
      },
      "execution_count": 9,
      "outputs": [
        {
          "output_type": "stream",
          "name": "stdout",
          "text": [
            "DRIVER_NAME:           libdb2.a\n",
            "DRIVER_VER:            11.05.0600\n",
            "DATA_SOURCE_NAME:      BLUDB\n",
            "DRIVER_ODBC_VER:       03.51\n",
            "ODBC_VER:              03.01.0000\n",
            "ODBC_SQL_CONFORMANCE:  EXTENDED\n",
            "APPL_CODEPAGE:         1208\n",
            "CONN_CODEPAGE:         1208\n"
          ]
        }
      ]
    },
    {
      "cell_type": "markdown",
      "source": [
        "Problem 1\n",
        "\n",
        "Find the total number of crimes recorded in the CRIME table."
      ],
      "metadata": {
        "id": "8M_Se8y_V5mu"
      }
    },
    {
      "cell_type": "code",
      "source": [
        "%sql select count (DISTINCT (CASE_NUMBER))from CHICAGO_CRIME_DATA;"
      ],
      "metadata": {
        "id": "HD42ADQ-UgmZ"
      },
      "execution_count": null,
      "outputs": []
    },
    {
      "cell_type": "markdown",
      "source": [
        "Problem 2\n",
        "\n",
        "List community areas with per capita income less than 11000."
      ],
      "metadata": {
        "id": "zwizbr69WXXl"
      }
    },
    {
      "cell_type": "code",
      "source": [
        "%sql select COMMUNITY_AREA_NAME,PER_CAPITA_INCOME from CENSUS_DATA where PER_CAPITA_INCOME<11000;"
      ],
      "metadata": {
        "id": "LZt-VcBfWdBp"
      },
      "execution_count": null,
      "outputs": []
    },
    {
      "cell_type": "markdown",
      "source": [
        "Problem 3\n",
        "\n",
        "List all case numbers for crimes involving minors?(children are not considered minors for the purposes of crime analysis)"
      ],
      "metadata": {
        "id": "7tunTNwMWrEn"
      }
    },
    {
      "cell_type": "code",
      "source": [
        "%sql select CASE_NUMBER,DESCRIPTION,PRIMARY_TYPE from CHICAGO_CRIME_DATA WHERE DESCRIPTION like '%MINOR%' or PRIMARY_TYPE LIKE '%MINOR%'"
      ],
      "metadata": {
        "id": "hYVnVab3Ww1J"
      },
      "execution_count": null,
      "outputs": []
    },
    {
      "cell_type": "markdown",
      "source": [
        "Problem 4\n",
        "\n",
        "List all kidnapping crimes involving a child?"
      ],
      "metadata": {
        "id": "lzkNIdZHW2Le"
      }
    },
    {
      "cell_type": "code",
      "source": [
        "%sql select CASE_NUMBER,DESCRIPTION,PRIMARY_TYPE from CHICAGO_CRIME_DATA WHERE DESCRIPTION like '%CHILD%' AND PRIMARY_TYPE LIKE '%KIDNAP%'"
      ],
      "metadata": {
        "id": "5ZVRXBCkW8ZW"
      },
      "execution_count": null,
      "outputs": []
    },
    {
      "cell_type": "markdown",
      "source": [
        "Problem 5\n",
        "\n",
        "What kinds of crimes were recorded at schools?"
      ],
      "metadata": {
        "id": "NhSo8UHUXBcK"
      }
    },
    {
      "cell_type": "code",
      "source": [
        "%sql select DISTINCT (PRIMARY_TYPE),LOCATION_DESCRIPTION from CHICAGO_CRIME_DATA WHERE LOCATION_DESCRIPTION like '%SCHOOL%'"
      ],
      "metadata": {
        "id": "Xcfuj5gvXFtr"
      },
      "execution_count": null,
      "outputs": []
    },
    {
      "cell_type": "markdown",
      "source": [
        "Problem 6\n",
        "\n",
        "List the average safety score for all types of schools."
      ],
      "metadata": {
        "id": "qXC9xaIBXS7f"
      }
    },
    {
      "cell_type": "code",
      "source": [
        "%sql select  avg(SAFETY_SCORE) from CHICAGO_PUBLIC_SCHOOLS ;"
      ],
      "metadata": {
        "id": "3zebhtiZXZOa"
      },
      "execution_count": null,
      "outputs": []
    },
    {
      "cell_type": "markdown",
      "source": [
        "Problem 7\n",
        "\n",
        "List 5 community areas with highest % of households below poverty line"
      ],
      "metadata": {
        "id": "PB7TD6AYXeEm"
      }
    },
    {
      "cell_type": "code",
      "source": [
        "%sql select COMMUNITY_AREA_NAME,PERCENT_HOUSEHOLDS_BELOW_POVERTY from CENSUS_DATA order by PERCENT_HOUSEHOLDS_BELOW_POVERTY desc LIMIT 5;"
      ],
      "metadata": {
        "id": "_bpnlBScXj_-"
      },
      "execution_count": null,
      "outputs": []
    },
    {
      "cell_type": "markdown",
      "source": [
        "Problem 8\n",
        "\n",
        "Which community area is most crime prone?"
      ],
      "metadata": {
        "id": "FubGQitUXpnX"
      }
    },
    {
      "cell_type": "code",
      "source": [
        "%sql SELECT COMMUNITY_AREA_NUMBER from CHICAGO_CRIME_DATA group by COMMUNITY_AREA_NUMBER order by COUNT(*) DESC NULLS LAST LIMIT 1"
      ],
      "metadata": {
        "id": "MEEvreIHX0wD"
      },
      "execution_count": null,
      "outputs": []
    },
    {
      "cell_type": "markdown",
      "source": [
        "Problem 9\n",
        "\n",
        "Use a sub-query to find the name of the community area with highest hardship index"
      ],
      "metadata": {
        "id": "AgHtt8IaX4hD"
      }
    },
    {
      "cell_type": "code",
      "source": [
        "%sql select COMMUNITY_AREA_NAME,HARDSHIP_INDEX from CENSUS_DATA where HARDSHIP_INDEX = (SELECT max(HARDSHIP_INDEX) from CENSUS_DATA)"
      ],
      "metadata": {
        "id": "Nia9uH-EYAuU"
      },
      "execution_count": null,
      "outputs": []
    },
    {
      "cell_type": "markdown",
      "source": [
        "Problem 10\n",
        "\n",
        "Use a sub-query to determine the Community Area Name with most number of crimes?"
      ],
      "metadata": {
        "id": "C7Nm6d54YEzu"
      }
    },
    {
      "cell_type": "code",
      "source": [
        "%sql SELECT COMMUNITY_AREA_NAME FROM CENSUS_DATA WHERE COMMUNITY_AREA_NUMBER IN (SELECT COMMUNITY_AREA_NUMBER from CHICAGO_CRIME_DATA group by COMMUNITY_AREA_NUMBER"
      ],
      "metadata": {
        "id": "1hy75awXYOh_"
      },
      "execution_count": null,
      "outputs": []
    }
  ]
}